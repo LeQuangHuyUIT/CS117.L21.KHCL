{
  "nbformat": 4,
  "nbformat_minor": 0,
  "metadata": {
    "colab": {
      "name": "Demo CS117.L21.KHCL.ipynb",
      "provenance": [],
      "authorship_tag": "ABX9TyMYdnh2Rp2O0Xn7FGdlkmWO",
      "include_colab_link": true
    },
    "kernelspec": {
      "name": "python3",
      "display_name": "Python 3"
    },
    "language_info": {
      "name": "python"
    },
    "accelerator": "GPU"
  },
  "cells": [
    {
      "cell_type": "markdown",
      "metadata": {
        "id": "view-in-github",
        "colab_type": "text"
      },
      "source": [
        "<a href=\"https://colab.research.google.com/github/LeQuangHuyUIT/CS117.L21.KHCL/blob/main/Demo_CS117_L21_KHCL.ipynb\" target=\"_parent\"><img src=\"https://colab.research.google.com/assets/colab-badge.svg\" alt=\"Open In Colab\"/></a>"
      ]
    },
    {
      "cell_type": "markdown",
      "metadata": {
        "id": "H-z1WwrOLfmP"
      },
      "source": [
        "# git clone "
      ]
    },
    {
      "cell_type": "code",
      "metadata": {
        "colab": {
          "base_uri": "https://localhost:8080/"
        },
        "id": "WlmIZHCNAG8I",
        "outputId": "f9e71d0d-420f-4578-cc28-fdd7853b31a9"
      },
      "source": [
        "!git clone https://github.com/LeQuangHuyUIT/CS117.L21.KHCL"
      ],
      "execution_count": 1,
      "outputs": [
        {
          "output_type": "stream",
          "text": [
            "Cloning into 'CS117.L21.KHCL'...\n",
            "remote: Enumerating objects: 20, done.\u001b[K\n",
            "remote: Counting objects: 100% (20/20), done.\u001b[K\n",
            "remote: Compressing objects: 100% (17/17), done.\u001b[K\n",
            "remote: Total 20 (delta 2), reused 13 (delta 1), pack-reused 0\u001b[K\n",
            "Unpacking objects: 100% (20/20), done.\n"
          ],
          "name": "stdout"
        }
      ]
    },
    {
      "cell_type": "code",
      "metadata": {
        "colab": {
          "base_uri": "https://localhost:8080/"
        },
        "id": "7lV505hlAmdq",
        "outputId": "df5b6011-b84b-4680-9acb-f6c79e0089ed"
      },
      "source": [
        "%cd CS117.L21.KHCL/"
      ],
      "execution_count": 2,
      "outputs": [
        {
          "output_type": "stream",
          "text": [
            "/content/CS117.L21.KHCL\n"
          ],
          "name": "stdout"
        }
      ]
    },
    {
      "cell_type": "code",
      "metadata": {
        "colab": {
          "base_uri": "https://localhost:8080/"
        },
        "id": "GCtowHivBNhO",
        "outputId": "06b510b9-6452-479b-9541-74e7cda16e99"
      },
      "source": [
        "!pip install -r requirements.txt"
      ],
      "execution_count": 3,
      "outputs": [
        {
          "output_type": "stream",
          "text": [
            "Requirement already satisfied: cmake in /usr/local/lib/python3.7/dist-packages (from -r requirements.txt (line 1)) (3.12.0)\n",
            "Requirement already satisfied: dlib in /usr/local/lib/python3.7/dist-packages (from -r requirements.txt (line 2)) (19.18.0)\n",
            "Collecting face_recognition\n",
            "  Downloading face_recognition-1.3.0-py2.py3-none-any.whl (15 kB)\n",
            "Requirement already satisfied: numpy in /usr/local/lib/python3.7/dist-packages (from -r requirements.txt (line 4)) (1.19.5)\n",
            "Requirement already satisfied: opencv-python in /usr/local/lib/python3.7/dist-packages (from -r requirements.txt (line 5)) (4.1.2.30)\n",
            "Collecting dbr==8.6\n",
            "  Downloading dbr-8.6-cp37-cp37m-manylinux1_x86_64.whl (11.4 MB)\n",
            "\u001b[K     |████████████████████████████████| 11.4 MB 5.4 MB/s \n",
            "\u001b[?25hRequirement already satisfied: Pillow in /usr/local/lib/python3.7/dist-packages (from face_recognition->-r requirements.txt (line 3)) (7.1.2)\n",
            "Requirement already satisfied: Click>=6.0 in /usr/local/lib/python3.7/dist-packages (from face_recognition->-r requirements.txt (line 3)) (7.1.2)\n",
            "Collecting face-recognition-models>=0.3.0\n",
            "  Downloading face_recognition_models-0.3.0.tar.gz (100.1 MB)\n",
            "\u001b[K     |████████████████████████████████| 100.1 MB 8.0 kB/s \n",
            "\u001b[?25hBuilding wheels for collected packages: face-recognition-models\n",
            "  Building wheel for face-recognition-models (setup.py) ... \u001b[?25l\u001b[?25hdone\n",
            "  Created wheel for face-recognition-models: filename=face_recognition_models-0.3.0-py2.py3-none-any.whl size=100566185 sha256=5f2b5a297e58d5af2ecf78459f890a0c8055cb515f7982c15d34a11bc5045dd7\n",
            "  Stored in directory: /root/.cache/pip/wheels/d6/81/3c/884bcd5e1c120ff548d57c2ecc9ebf3281c9a6f7c0e7e7947a\n",
            "Successfully built face-recognition-models\n",
            "Installing collected packages: face-recognition-models, face-recognition, dbr\n",
            "Successfully installed dbr-8.6 face-recognition-1.3.0 face-recognition-models-0.3.0\n"
          ],
          "name": "stdout"
        }
      ]
    },
    {
      "cell_type": "code",
      "metadata": {
        "id": "Ie9Z1PxBEvj8"
      },
      "source": [
        "import matplotlib.pyplot as plt\n",
        "import cv2\n",
        "import numpy as np\n",
        "import face_recognition\n",
        "import os\n",
        "from datetime import datetime\n",
        "from dbr import *\n",
        "import cv2"
      ],
      "execution_count": 4,
      "outputs": []
    },
    {
      "cell_type": "markdown",
      "metadata": {
        "id": "Ai1myxxiFfG0"
      },
      "source": [
        "# Open and capture image"
      ]
    },
    {
      "cell_type": "code",
      "metadata": {
        "id": "ikRVZdOtJ_EC"
      },
      "source": [
        "from IPython.display import display, Javascript, Image\n",
        "from google.colab.output import eval_js\n",
        "from base64 import b64decode, b64encode\n",
        "import cv2\n",
        "import numpy as np\n",
        "import PIL\n",
        "import io\n",
        "import html\n",
        "import time\n",
        "import random"
      ],
      "execution_count": 5,
      "outputs": []
    },
    {
      "cell_type": "code",
      "metadata": {
        "id": "n-aIoC7SKb3g"
      },
      "source": [
        "# function to convert the JavaScript object into an OpenCV image\n",
        "def js_to_image(js_reply):\n",
        "  \"\"\"\n",
        "  Params:\n",
        "          js_reply: JavaScript object containing image from webcam\n",
        "  Returns:\n",
        "          img: OpenCV BGR image\n",
        "  \"\"\"\n",
        "  # decode base64 image\n",
        "  image_bytes = b64decode(js_reply.split(',')[1])\n",
        "  # convert bytes to numpy array\n",
        "  jpg_as_np = np.frombuffer(image_bytes, dtype=np.uint8)\n",
        "  # decode numpy array into OpenCV BGR image\n",
        "  img = cv2.imdecode(jpg_as_np, flags=1)\n",
        "\n",
        "  return img\n",
        "\n",
        "# function to convert OpenCV Rectangle bounding box image into base64 byte string to be overlayed on video stream\n",
        "def bbox_to_bytes(bbox_array):\n",
        "  \"\"\"\n",
        "  Params:\n",
        "          bbox_array: Numpy array (pixels) containing rectangle to overlay on video stream.\n",
        "  Returns:\n",
        "        bytes: Base64 image byte string\n",
        "  \"\"\"\n",
        "  # convert array into PIL image\n",
        "  bbox_PIL = PIL.Image.fromarray(bbox_array, 'RGBA')\n",
        "  iobuf = io.BytesIO()\n",
        "  # format bbox into png for return\n",
        "  bbox_PIL.save(iobuf, format='png')\n",
        "  # format return string\n",
        "  bbox_bytes = 'data:image/png;base64,{}'.format((str(b64encode(iobuf.getvalue()), 'utf-8')))\n",
        "\n",
        "  return bbox_bytes"
      ],
      "execution_count": 6,
      "outputs": []
    },
    {
      "cell_type": "code",
      "metadata": {
        "id": "rdrhDD5oJ1A1"
      },
      "source": [
        "# JavaScript to properly create our live video stream using our webcam as input\n",
        "def video_stream():\n",
        "  js = Javascript('''\n",
        "    var video;\n",
        "    var div = null;\n",
        "    var stream;\n",
        "    var captureCanvas;\n",
        "    var imgElement;\n",
        "    var labelElement;\n",
        "    \n",
        "    var pendingResolve = null;\n",
        "    var shutdown = false;\n",
        "    \n",
        "    function removeDom() {\n",
        "       stream.getVideoTracks()[0].stop();\n",
        "       video.remove();\n",
        "       div.remove();\n",
        "       video = null;\n",
        "       div = null;\n",
        "       stream = null;\n",
        "       imgElement = null;\n",
        "       captureCanvas = null;\n",
        "       labelElement = null;\n",
        "    }\n",
        "    \n",
        "    function onAnimationFrame() {\n",
        "      if (!shutdown) {\n",
        "        window.requestAnimationFrame(onAnimationFrame);\n",
        "      }\n",
        "      if (pendingResolve) {\n",
        "        var result = \"\";\n",
        "        if (!shutdown) {\n",
        "          captureCanvas.getContext('2d').drawImage(video, 0, 0, 640, 480);\n",
        "          result = captureCanvas.toDataURL('image/jpeg', 0.8)\n",
        "        }\n",
        "        var lp = pendingResolve;\n",
        "        pendingResolve = null;\n",
        "        lp(result);\n",
        "      }\n",
        "    }\n",
        "    \n",
        "    async function createDom() {\n",
        "      if (div !== null) {\n",
        "        return stream;\n",
        "      }\n",
        "\n",
        "      div = document.createElement('div');\n",
        "      div.style.border = '2px solid black';\n",
        "      div.style.padding = '3px';\n",
        "      div.style.width = '100%';\n",
        "      div.style.maxWidth = '600px';\n",
        "      document.body.appendChild(div);\n",
        "      \n",
        "      const modelOut = document.createElement('div');\n",
        "      modelOut.innerHTML = \"<span>Status:</span>\";\n",
        "      labelElement = document.createElement('span');\n",
        "      labelElement.innerText = 'No data';\n",
        "      labelElement.style.fontWeight = 'bold';\n",
        "      modelOut.appendChild(labelElement);\n",
        "      div.appendChild(modelOut);\n",
        "           \n",
        "      video = document.createElement('video');\n",
        "      video.style.display = 'block';\n",
        "      video.width = div.clientWidth - 6;\n",
        "      video.setAttribute('playsinline', '');\n",
        "      video.onclick = () => { shutdown = true; };\n",
        "      stream = await navigator.mediaDevices.getUserMedia(\n",
        "          {video: { facingMode: \"environment\"}});\n",
        "      div.appendChild(video);\n",
        "\n",
        "      imgElement = document.createElement('img');\n",
        "      imgElement.style.position = 'absolute';\n",
        "      imgElement.style.zIndex = 1;\n",
        "      imgElement.onclick = () => { shutdown = true; };\n",
        "      div.appendChild(imgElement);\n",
        "      \n",
        "      const instruction = document.createElement('div');\n",
        "      instruction.innerHTML = \n",
        "          '<span style=\"color: red; font-weight: bold;\">' +\n",
        "          'When finished, click here or on the video to stop this demo</span>';\n",
        "      div.appendChild(instruction);\n",
        "      instruction.onclick = () => { shutdown = true; };\n",
        "      \n",
        "      video.srcObject = stream;\n",
        "      await video.play();\n",
        "\n",
        "      captureCanvas = document.createElement('canvas');\n",
        "      captureCanvas.width = 640; //video.videoWidth;\n",
        "      captureCanvas.height = 480; //video.videoHeight;\n",
        "      window.requestAnimationFrame(onAnimationFrame);\n",
        "      \n",
        "      return stream;\n",
        "    }\n",
        "    async function stream_frame(label, imgData) {\n",
        "      if (shutdown) {\n",
        "        removeDom();\n",
        "        shutdown = false;\n",
        "        return '';\n",
        "      }\n",
        "\n",
        "      var preCreate = Date.now();\n",
        "      stream = await createDom();\n",
        "      \n",
        "      var preShow = Date.now();\n",
        "      if (label != \"\") {\n",
        "        labelElement.innerHTML = label;\n",
        "      }\n",
        "            \n",
        "      if (imgData != \"\") {\n",
        "        var videoRect = video.getClientRects()[0];\n",
        "        imgElement.style.top = videoRect.top + \"px\";\n",
        "        imgElement.style.left = videoRect.left + \"px\";\n",
        "        imgElement.style.width = videoRect.width + \"px\";\n",
        "        imgElement.style.height = videoRect.height + \"px\";\n",
        "        imgElement.src = imgData;\n",
        "      }\n",
        "      \n",
        "      var preCapture = Date.now();\n",
        "      var result = await new Promise(function(resolve, reject) {\n",
        "        pendingResolve = resolve;\n",
        "      });\n",
        "      shutdown = false;\n",
        "      \n",
        "      return {'create': preShow - preCreate, \n",
        "              'show': preCapture - preShow, \n",
        "              'capture': Date.now() - preCapture,\n",
        "              'img': result};\n",
        "    }\n",
        "    ''')\n",
        "\n",
        "  display(js)\n",
        "  \n",
        "def video_frame(label, bbox):\n",
        "  data = eval_js('stream_frame(\"{}\", \"{}\")'.format(label, bbox))\n",
        "  return data\n"
      ],
      "execution_count": 7,
      "outputs": []
    },
    {
      "cell_type": "code",
      "metadata": {
        "id": "_J2ZXfywKnqL"
      },
      "source": [
        "# initialize the Haar Cascade face detection model\n",
        "face_cascade = cv2.CascadeClassifier(cv2.samples.findFile(cv2.data.haarcascades + 'haarcascade_frontalface_default.xml'))"
      ],
      "execution_count": 8,
      "outputs": []
    },
    {
      "cell_type": "markdown",
      "metadata": {
        "id": "OOdn5OlZKzhk"
      },
      "source": [
        "# Function for Face detection"
      ]
    },
    {
      "cell_type": "code",
      "metadata": {
        "colab": {
          "base_uri": "https://localhost:8080/"
        },
        "id": "QMShxE7BK7n7",
        "outputId": "f79a6769-b85a-4a74-9c85-aa83b13c17dc"
      },
      "source": [
        "path = '/content/CS117.L21.KHCL/faces'\n",
        "images = []\n",
        "classNames = []\n",
        "myList = os.listdir(path)\n",
        "\n",
        "for cl in myList:\n",
        "    if os.path.splitext(cl)[1] == '.jpg':\n",
        "        curImg = cv2.imread(f'{path}/{cl}')\n",
        "        images.append(curImg)\n",
        "        classNames.append(os.path.splitext(cl)[0])\n",
        "print(len(images))\n",
        "\n",
        "def findEncodings(images):\n",
        "    encodeList = []\n",
        "    for img in images:\n",
        "        img = cv2.cvtColor(img, cv2.COLOR_BGR2RGB)\n",
        "        face = face_recognition.face_locations(img)\n",
        "        encode = face_recognition.face_encodings(img, face)[0]\n",
        "        encodeList.append(encode)\n",
        "    return encodeList\n",
        "  \n",
        "encodeListKnown = findEncodings(images)\n",
        "print(len(encodeListKnown))\n",
        "print('Encoding Complete')"
      ],
      "execution_count": 110,
      "outputs": [
        {
          "output_type": "stream",
          "text": [
            "6\n",
            "6\n",
            "Encoding Complete\n"
          ],
          "name": "stdout"
        }
      ]
    },
    {
      "cell_type": "code",
      "metadata": {
        "colab": {
          "base_uri": "https://localhost:8080/"
        },
        "id": "grv35OJh6bsf",
        "outputId": "fff49405-9275-442c-b743-6f3c8e0164ca"
      },
      "source": [
        "print(os.path.splitext(myList[3]))"
      ],
      "execution_count": 111,
      "outputs": [
        {
          "output_type": "stream",
          "text": [
            "('donald trump', '.jpg')\n"
          ],
          "name": "stdout"
        }
      ]
    },
    {
      "cell_type": "code",
      "metadata": {
        "id": "jAYnQdhkPmQI"
      },
      "source": [
        "def draw_face_BoudingBox(img):\n",
        "    imgS = cv2.resize(img,(0,0),None,0.25,0.25)\n",
        "    imgS = cv2.cvtColor(imgS, cv2.COLOR_BGR2RGB)\n",
        "    facesCurFrame = face_recognition.face_locations(imgS)\n",
        "    encodesCurFrame = face_recognition.face_encodings(imgS,facesCurFrame)\n",
        "\n",
        "    bbox_array = np.zeros([480,640,4], dtype=np.uint8)\n",
        "\n",
        "    name = ''\n",
        "\n",
        "    for encodeFace,faceLoc in zip(encodesCurFrame,facesCurFrame):\n",
        "        name = 'Unknown'\n",
        "        matches = face_recognition.compare_faces(encodeListKnown,encodeFace)\n",
        "        faceDis = face_recognition.face_distance(encodeListKnown,encodeFace)\n",
        "        #print(faceDis)\n",
        "        matchIndex = np.argmin(faceDis)\n",
        "        \n",
        "        if matches[matchIndex] > 0.8:\n",
        "            name = classNames[matchIndex].upper()\n",
        "            #print(name)\n",
        "        y1,x2,y2,x1 = faceLoc\n",
        "        y1, x2, y2, x1 = y1*4,x2*4,y2*4,x1*4\n",
        "\n",
        "        img = cv2.rectangle(img,(x1,y1),(x2,y2),(0,255,0),2)\n",
        "        img = cv2.rectangle(img,(x1,y2-35),(x2,y2),(0,255,0),cv2.FILLED)\n",
        "        img = cv2.putText(img,name,(x1+6,y2-6),\\\n",
        "                cv2.FONT_HERSHEY_COMPLEX,1,(255,255,255),2)\n",
        "\n",
        "        bbox_array = cv2.rectangle(bbox_array,(x1,y1),(x2,y2),(0,255,0),2)\n",
        "        bbox_array = cv2.rectangle(bbox_array,(x1,y2-35),(x2,y2),(0,255,0),cv2.FILLED)\n",
        "        bbox_array = cv2.putText(bbox_array,name,(x1+6,y2-6),\\\n",
        "                cv2.FONT_HERSHEY_COMPLEX,1,(255,255,255),2)\n",
        "\n",
        "    return img, bbox_array, name"
      ],
      "execution_count": 112,
      "outputs": []
    },
    {
      "cell_type": "code",
      "metadata": {
        "id": "686u6M90J49X"
      },
      "source": [
        "# start streaming video from webcam\n",
        "def capture_and_face_identify():\n",
        "    video_stream()\n",
        "    # label for video\n",
        "    label_html = 'Capturing...'\n",
        "    # initialze bounding box to empty\n",
        "    bbox = ''\n",
        "    count = 0 \n",
        "    new_images = []\n",
        "    new_names = []\n",
        "    while True:\n",
        "        js_reply = video_frame(label_html, bbox)\n",
        "        if not js_reply:\n",
        "            break\n",
        "\n",
        "        # convert JS response to OpenCV Image\n",
        "        img = js_to_image(js_reply[\"img\"])\n",
        "\n",
        "        # draw face bouding box\n",
        "        detected_img, bbox_array, name = draw_face_BoudingBox(img.copy())\n",
        "\n",
        "        bbox_array[:,:,3] = (bbox_array.max(axis = 2) > 0 ).astype(int) * 255\n",
        "        # convert overlay of bbox into bytes\n",
        "        bbox_bytes = bbox_to_bytes(bbox_array)\n",
        "        # update bbox so next frame gets new overlay\n",
        "        bbox = bbox_bytes\n",
        "\n",
        "        if name == 'Unknown':\n",
        "            new_name = 'New_face' + str(random.randint(1, 1000))\n",
        "            while new_name in myList:\n",
        "                new_name = 'New_face' + str(random.randint(1, 1000))\n",
        "\n",
        "            imgS = cv2.cvtColor(img, cv2.COLOR_BGR2RGB)\n",
        "            facesCurFrame = face_recognition.face_locations(imgS)\n",
        "            encodesCurFrame = face_recognition.face_encodings(imgS,facesCurFrame)\n",
        "            if len(encodesCurFrame):\n",
        "                classNames.append(new_name)\n",
        "                encodeListKnown.append(encodesCurFrame[0])\n",
        "                new_path = os.path.join(path, new_name + '.jpg')\n",
        "                new_images.append(img)\n",
        "                new_names.append(new_path)\n",
        "\n",
        "    plt.figure(figsize=(10, 20))\n",
        "    for i, img in enumerate(new_images):\n",
        "        cv2.imwrite(new_names[i], img)"
      ],
      "execution_count": 113,
      "outputs": []
    },
    {
      "cell_type": "markdown",
      "metadata": {
        "id": "Lruql8CiUnpq"
      },
      "source": [
        "# Function for barcode detection"
      ]
    },
    {
      "cell_type": "code",
      "metadata": {
        "id": "mr6K2P8YUmxc"
      },
      "source": [
        "license_key = \"t0070fQAAAA/lgr6TSGYD/mYnKxOQQZdL5rCdz5VQaxSlgPnN4Fl+HhYfVISxWKOqL5dTllJaV8zwuNRTPk0MiyivIZVKR0Ia4g==\"\n",
        "reader = BarcodeReader()\n",
        "\n",
        "# Apply for a trial license: https://www.dynamsoft.com/customer/license/trialLicense?product=dbr&utm_source=github\n",
        "reader.init_license(license_key)\n",
        "\n",
        "def detect_and_decode(image):\n",
        "\n",
        "    text_results = reader.decode_buffer(image)\n",
        "    bbox_array = np.zeros([480,640,4], dtype=np.uint8)\n",
        "\n",
        "    text = \"\"\n",
        "    if text_results != None:\n",
        "        for text_result in text_results:\n",
        "            temp = text_result.localization_result.localization_points\n",
        "            contour = np.array([list(x) for x in temp])\n",
        "\n",
        "            font = cv2.FONT_HERSHEY_SIMPLEX\n",
        "            org = (00, 185)\n",
        "            fontScale = 0.5\n",
        "            color = (0, 0, 255)\n",
        "            thickness = 1\n",
        "            text = text_result.barcode_text\n",
        "\n",
        "            cv2.drawContours(image, [contour], -1, (0, 255, 0), 5)\n",
        "            cv2.putText(image, text, (contour[0][0], contour[0][1]), font, fontScale, \n",
        "                color, thickness, cv2.LINE_AA, False)\n",
        "\n",
        "            cv2.drawContours(bbox_array, [contour], -1, (0, 255, 0), 5)\n",
        "            cv2.putText(bbox_array, text, (contour[0][0], contour[0][1]), font, fontScale, \n",
        "                color, thickness, cv2.LINE_AA, False)\n",
        "            \n",
        "    return image, bbox_array, text \n"
      ],
      "execution_count": 12,
      "outputs": []
    },
    {
      "cell_type": "code",
      "metadata": {
        "id": "FU9EAfEXVgg6"
      },
      "source": [
        "def capture_image_and_detect_barcode():\n",
        "    video_stream()\n",
        "    # label for video\n",
        "    label_html = 'Capturing...'\n",
        "    # initialze bounding box to empty\n",
        "    bbox = ''\n",
        "    count = 0 \n",
        "    while True:\n",
        "        js_reply = video_frame(label_html, bbox)\n",
        "        if not js_reply:\n",
        "            cv2.imwrite('barcode.jpg', detected_img)\n",
        "            break\n",
        "\n",
        "        # convert JS response to OpenCV Image\n",
        "        img = js_to_image(js_reply[\"img\"])\n",
        "\n",
        "        # draw barcode bouding box\n",
        "        detected_img, bbox_array, text = detect_and_decode(img)\n",
        "\n",
        "        bbox_array[:,:,3] = (bbox_array.max(axis = 2) > 0 ).astype(int) * 255\n",
        "        # convert overlay of bbox into bytes\n",
        "        bbox_bytes = bbox_to_bytes(bbox_array)\n",
        "        # update bbox so next frame gets new overlay\n",
        "        bbox = bbox_bytes\n",
        "    print(\"text: \", text)\n"
      ],
      "execution_count": 13,
      "outputs": []
    },
    {
      "cell_type": "markdown",
      "metadata": {
        "id": "Fn_cEaDnUID8"
      },
      "source": [
        "# Face identify demo"
      ]
    },
    {
      "cell_type": "code",
      "metadata": {
        "colab": {
          "base_uri": "https://localhost:8080/",
          "height": 34
        },
        "id": "87q0yP1v3UcP",
        "outputId": "72bbc602-03d4-44ac-b057-7211019425a8"
      },
      "source": [
        "capture_and_face_identify()"
      ],
      "execution_count": 114,
      "outputs": [
        {
          "output_type": "display_data",
          "data": {
            "application/javascript": [
              "\n",
              "    var video;\n",
              "    var div = null;\n",
              "    var stream;\n",
              "    var captureCanvas;\n",
              "    var imgElement;\n",
              "    var labelElement;\n",
              "    \n",
              "    var pendingResolve = null;\n",
              "    var shutdown = false;\n",
              "    \n",
              "    function removeDom() {\n",
              "       stream.getVideoTracks()[0].stop();\n",
              "       video.remove();\n",
              "       div.remove();\n",
              "       video = null;\n",
              "       div = null;\n",
              "       stream = null;\n",
              "       imgElement = null;\n",
              "       captureCanvas = null;\n",
              "       labelElement = null;\n",
              "    }\n",
              "    \n",
              "    function onAnimationFrame() {\n",
              "      if (!shutdown) {\n",
              "        window.requestAnimationFrame(onAnimationFrame);\n",
              "      }\n",
              "      if (pendingResolve) {\n",
              "        var result = \"\";\n",
              "        if (!shutdown) {\n",
              "          captureCanvas.getContext('2d').drawImage(video, 0, 0, 640, 480);\n",
              "          result = captureCanvas.toDataURL('image/jpeg', 0.8)\n",
              "        }\n",
              "        var lp = pendingResolve;\n",
              "        pendingResolve = null;\n",
              "        lp(result);\n",
              "      }\n",
              "    }\n",
              "    \n",
              "    async function createDom() {\n",
              "      if (div !== null) {\n",
              "        return stream;\n",
              "      }\n",
              "\n",
              "      div = document.createElement('div');\n",
              "      div.style.border = '2px solid black';\n",
              "      div.style.padding = '3px';\n",
              "      div.style.width = '100%';\n",
              "      div.style.maxWidth = '600px';\n",
              "      document.body.appendChild(div);\n",
              "      \n",
              "      const modelOut = document.createElement('div');\n",
              "      modelOut.innerHTML = \"<span>Status:</span>\";\n",
              "      labelElement = document.createElement('span');\n",
              "      labelElement.innerText = 'No data';\n",
              "      labelElement.style.fontWeight = 'bold';\n",
              "      modelOut.appendChild(labelElement);\n",
              "      div.appendChild(modelOut);\n",
              "           \n",
              "      video = document.createElement('video');\n",
              "      video.style.display = 'block';\n",
              "      video.width = div.clientWidth - 6;\n",
              "      video.setAttribute('playsinline', '');\n",
              "      video.onclick = () => { shutdown = true; };\n",
              "      stream = await navigator.mediaDevices.getUserMedia(\n",
              "          {video: { facingMode: \"environment\"}});\n",
              "      div.appendChild(video);\n",
              "\n",
              "      imgElement = document.createElement('img');\n",
              "      imgElement.style.position = 'absolute';\n",
              "      imgElement.style.zIndex = 1;\n",
              "      imgElement.onclick = () => { shutdown = true; };\n",
              "      div.appendChild(imgElement);\n",
              "      \n",
              "      const instruction = document.createElement('div');\n",
              "      instruction.innerHTML = \n",
              "          '<span style=\"color: red; font-weight: bold;\">' +\n",
              "          'When finished, click here or on the video to stop this demo</span>';\n",
              "      div.appendChild(instruction);\n",
              "      instruction.onclick = () => { shutdown = true; };\n",
              "      \n",
              "      video.srcObject = stream;\n",
              "      await video.play();\n",
              "\n",
              "      captureCanvas = document.createElement('canvas');\n",
              "      captureCanvas.width = 640; //video.videoWidth;\n",
              "      captureCanvas.height = 480; //video.videoHeight;\n",
              "      window.requestAnimationFrame(onAnimationFrame);\n",
              "      \n",
              "      return stream;\n",
              "    }\n",
              "    async function stream_frame(label, imgData) {\n",
              "      if (shutdown) {\n",
              "        removeDom();\n",
              "        shutdown = false;\n",
              "        return '';\n",
              "      }\n",
              "\n",
              "      var preCreate = Date.now();\n",
              "      stream = await createDom();\n",
              "      \n",
              "      var preShow = Date.now();\n",
              "      if (label != \"\") {\n",
              "        labelElement.innerHTML = label;\n",
              "      }\n",
              "            \n",
              "      if (imgData != \"\") {\n",
              "        var videoRect = video.getClientRects()[0];\n",
              "        imgElement.style.top = videoRect.top + \"px\";\n",
              "        imgElement.style.left = videoRect.left + \"px\";\n",
              "        imgElement.style.width = videoRect.width + \"px\";\n",
              "        imgElement.style.height = videoRect.height + \"px\";\n",
              "        imgElement.src = imgData;\n",
              "      }\n",
              "      \n",
              "      var preCapture = Date.now();\n",
              "      var result = await new Promise(function(resolve, reject) {\n",
              "        pendingResolve = resolve;\n",
              "      });\n",
              "      shutdown = false;\n",
              "      \n",
              "      return {'create': preShow - preCreate, \n",
              "              'show': preCapture - preShow, \n",
              "              'capture': Date.now() - preCapture,\n",
              "              'img': result};\n",
              "    }\n",
              "    "
            ],
            "text/plain": [
              "<IPython.core.display.Javascript object>"
            ]
          },
          "metadata": {}
        },
        {
          "output_type": "display_data",
          "data": {
            "text/plain": [
              "<Figure size 720x1440 with 0 Axes>"
            ]
          },
          "metadata": {}
        }
      ]
    },
    {
      "cell_type": "code",
      "metadata": {
        "id": "JAo48fwhUK4N"
      },
      "source": [
        "capture_image_and_detect_barcode()"
      ],
      "execution_count": null,
      "outputs": []
    }
  ]
}